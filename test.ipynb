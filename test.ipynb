{
 "cells": [
  {
   "cell_type": "code",
   "execution_count": null,
   "metadata": {},
   "outputs": [
    {
     "name": "stderr",
     "output_type": "stream",
     "text": [
      "/var/folders/rf/r785zb1d6vvc7r4lhhwz6t3h0000gq/T/ipykernel_79803/3386323978.py:18: RuntimeWarning: divide by zero encountered in scalar divide\n",
      "  return np.sqrt(phi2corr / min((kcorr-1), (rcorr-1)))\n",
      "/var/folders/rf/r785zb1d6vvc7r4lhhwz6t3h0000gq/T/ipykernel_79803/3386323978.py:18: RuntimeWarning: divide by zero encountered in scalar divide\n",
      "  return np.sqrt(phi2corr / min((kcorr-1), (rcorr-1)))\n",
      "/var/folders/rf/r785zb1d6vvc7r4lhhwz6t3h0000gq/T/ipykernel_79803/3386323978.py:18: RuntimeWarning: divide by zero encountered in scalar divide\n",
      "  return np.sqrt(phi2corr / min((kcorr-1), (rcorr-1)))\n",
      "/var/folders/rf/r785zb1d6vvc7r4lhhwz6t3h0000gq/T/ipykernel_79803/3386323978.py:18: RuntimeWarning: divide by zero encountered in scalar divide\n",
      "  return np.sqrt(phi2corr / min((kcorr-1), (rcorr-1)))\n"
     ]
    }
   ],
   "source": [
    "import pandas as pd\n",
    "import numpy as np\n",
    "from scipy import stats\n",
    "import seaborn as sns\n",
    "import matplotlib.pyplot as plt\n",
    " \n",
    "df = pd.read_csv(\"/Users/rajesh/Desktop/mathan_ali/mastan_madina_poc/sales_estimation/data.csv\")\n",
    "def cramers_v(x, y):\n",
    "    \"\"\"Calculate Cramér's V statistic for categorical-categorical association\"\"\"\n",
    "    confusion_matrix = pd.crosstab(x, y)\n",
    "    chi2 = stats.chi2_contingency(confusion_matrix)[0]\n",
    "    n = confusion_matrix.sum().sum()\n",
    "    phi2 = chi2/n\n",
    "    r,k = confusion_matrix.shape\n",
    "    phi2corr = max(0, phi2 - ((k-1)*(r-1))/(n-1))\n",
    "    rcorr = r - ((r-1)**2)/(n-1)\n",
    "    kcorr = k - ((k-1)**2)/(n-1)\n",
    "    return np.sqrt(phi2corr / min((kcorr-1), (rcorr-1)))\n",
    " \n",
    "def corr_ratio(categorical, numerical):\n",
    "    \"\"\"Calculate correlation ratio for categorical-numerical association\"\"\"\n",
    "    categories = categorical.unique()\n",
    "    y_avg = numerical.mean()\n",
    "    numerator = sum([(numerical[categorical == cat].mean() - y_avg)**2 * len(numerical[categorical == cat])\n",
    "                   for cat in categories])\n",
    "    denominator = sum((numerical - y_avg)**2)\n",
    "    return np.sqrt(numerator/denominator) if denominator != 0 else 0\n",
    " \n",
    "def feature_correlation(df):\n",
    "    \"\"\"Calculate all pairwise correlations between features\"\"\"\n",
    "    # Separate features\n",
    "    numerical_cols = df.select_dtypes(include=['number']).columns\n",
    "    categorical_cols = df.select_dtypes(include=['object', 'category']).columns\n",
    "   \n",
    "    # Initialize correlation matrix\n",
    "    corr_matrix = pd.DataFrame(index=numerical_cols.union(categorical_cols),\n",
    "                              columns=numerical_cols.union(categorical_cols))\n",
    "   \n",
    "    # Numerical-Numerical (Pearson)\n",
    "    num_corr = df[numerical_cols].corr()\n",
    "    corr_matrix.loc[numerical_cols, numerical_cols] = num_corr\n",
    "   \n",
    "    # Categorical-Categorical (Cramer's V)\n",
    "    for cat1 in categorical_cols:\n",
    "        for cat2 in categorical_cols:\n",
    "            corr_matrix.loc[cat1, cat2] = cramers_v(df[cat1], df[cat2])\n",
    "   \n",
    "    # Numerical-Categorical (Correlation Ratio)\n",
    "    for num in numerical_cols:\n",
    "        for cat in categorical_cols:\n",
    "            corr_matrix.loc[num, cat] = corr_ratio(df[cat], df[num])\n",
    "            corr_matrix.loc[cat, num] = corr_ratio(df[cat], df[num])\n",
    "   \n",
    "    return corr_matrix.astype(float)\n",
    " \n",
    "# Calculate all correlations\n",
    "correlation_matrix = feature_correlation(df)\n",
    " \n",
    "# Visualize the correlation matrix\n",
    "plt.figure(figsize=(15, 12))\n",
    "sns.heatmap(correlation_matrix, annot=True, fmt=\".2f\", cmap='coolwarm',\n",
    "            center=0, vmin=-1, vmax=1)\n",
    "plt.title(\"Feature Correlation Matrix\")\n",
    "plt.tight_layout()\n",
    "plt.show()\n",
    " \n",
    "# Display sorted correlations with 'Sale Price'\n",
    "if 'Sale Price' in correlation_matrix.columns:\n",
    "    price_correlations = correlation_matrix['Sale Price'].sort_values(key=abs, ascending=False)\n",
    "    print(\"\\nTop features correlated with Sale Price:\")\n",
    "    print(price_correlations.head(20))"
   ]
  },
  {
   "cell_type": "code",
   "execution_count": null,
   "metadata": {},
   "outputs": [],
   "source": []
  }
 ],
 "metadata": {
  "kernelspec": {
   "display_name": "Python 3",
   "language": "python",
   "name": "python3"
  },
  "language_info": {
   "codemirror_mode": {
    "name": "ipython",
    "version": 3
   },
   "file_extension": ".py",
   "mimetype": "text/x-python",
   "name": "python",
   "nbconvert_exporter": "python",
   "pygments_lexer": "ipython3",
   "version": "3.11.6"
  }
 },
 "nbformat": 4,
 "nbformat_minor": 2
}
